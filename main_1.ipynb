{
 "cells": [
  {
   "cell_type": "markdown",
   "id": "1b34f62e",
   "metadata": {},
   "source": [
    "### PROJET FRUITS Jean-Pierre / YANIS / MEHDI / TARIK"
   ]
  },
  {
   "cell_type": "code",
   "execution_count": 1,
   "id": "54759551",
   "metadata": {},
   "outputs": [],
   "source": [
    "#on commence par récupérer le zip\n",
    "#import warnings\n",
    "import warnings\n",
    "warnings.filterwarnings('ignore')\n",
    "import pandas as pd\n",
    "import seaborn as sns\n",
    "import matplotlib.pyplot as plt\n",
    "# !pip install zipfile36"
   ]
  },
  {
   "cell_type": "code",
   "execution_count": 2,
   "id": "857375da-f2a3-4407-91bf-1a519d2a3619",
   "metadata": {},
   "outputs": [],
   "source": [
    "import os\n",
    "# import zipfile36 as zipfile \n",
    "import numpy as np\n",
    "from matplotlib import pyplot as plt\n",
    "from matplotlib.image import imread\n",
    "from PIL import Image\n",
    "import tensorflow as tf\n"
   ]
  },
  {
   "cell_type": "code",
   "execution_count": 3,
   "id": "a1b5629b-f239-4e2e-9555-bed12e9614ef",
   "metadata": {},
   "outputs": [],
   "source": [
    "os.getcwd()\n",
    "base_dir = './archive/'\n",
    "\n",
    "train_dir = './fruits-360_dataset/fruits-360/Training/'\n",
    "validation_dir =  './fruits-360_dataset/fruits-360/Test/'\n",
    "os.chdir(base_dir)"
   ]
  },
  {
   "cell_type": "code",
   "execution_count": 4,
   "id": "8cfa22bb-d740-4933-b2ff-b317641fc076",
   "metadata": {},
   "outputs": [],
   "source": [
    "#un peu de nettoyage \n",
    "\n",
    "\n",
    "fruits = []\n",
    "fruits_image = []\n",
    "\n",
    "for i in os.listdir(train_dir):\n",
    "    for image_filename in os.listdir(train_dir + i):\n",
    "        fruits.append(i) # name of the fruit \n",
    "        fruits_image.append(i + '/' + image_filename)"
   ]
  },
  {
   "cell_type": "code",
   "execution_count": 12,
   "id": "95daed97-9668-4ca8-948d-127686c566aa",
   "metadata": {},
   "outputs": [
    {
     "data": {
      "text/html": [
       "<div>\n",
       "<style scoped>\n",
       "    .dataframe tbody tr th:only-of-type {\n",
       "        vertical-align: middle;\n",
       "    }\n",
       "\n",
       "    .dataframe tbody tr th {\n",
       "        vertical-align: top;\n",
       "    }\n",
       "\n",
       "    .dataframe thead th {\n",
       "        text-align: right;\n",
       "    }\n",
       "</style>\n",
       "<table border=\"1\" class=\"dataframe\">\n",
       "  <thead>\n",
       "    <tr style=\"text-align: right;\">\n",
       "      <th></th>\n",
       "      <th>Fruits</th>\n",
       "      <th>Fruits Image</th>\n",
       "    </tr>\n",
       "  </thead>\n",
       "  <tbody>\n",
       "    <tr>\n",
       "      <th>0</th>\n",
       "      <td>Apple Braeburn</td>\n",
       "      <td>Apple Braeburn/0_100.jpg</td>\n",
       "    </tr>\n",
       "    <tr>\n",
       "      <th>1</th>\n",
       "      <td>Apple Braeburn</td>\n",
       "      <td>Apple Braeburn/100_100.jpg</td>\n",
       "    </tr>\n",
       "    <tr>\n",
       "      <th>2</th>\n",
       "      <td>Apple Braeburn</td>\n",
       "      <td>Apple Braeburn/101_100.jpg</td>\n",
       "    </tr>\n",
       "    <tr>\n",
       "      <th>3</th>\n",
       "      <td>Apple Braeburn</td>\n",
       "      <td>Apple Braeburn/102_100.jpg</td>\n",
       "    </tr>\n",
       "    <tr>\n",
       "      <th>4</th>\n",
       "      <td>Apple Braeburn</td>\n",
       "      <td>Apple Braeburn/103_100.jpg</td>\n",
       "    </tr>\n",
       "    <tr>\n",
       "      <th>...</th>\n",
       "      <td>...</td>\n",
       "      <td>...</td>\n",
       "    </tr>\n",
       "    <tr>\n",
       "      <th>67687</th>\n",
       "      <td>Watermelon</td>\n",
       "      <td>Watermelon/r_6_100.jpg</td>\n",
       "    </tr>\n",
       "    <tr>\n",
       "      <th>67688</th>\n",
       "      <td>Watermelon</td>\n",
       "      <td>Watermelon/r_7_100.jpg</td>\n",
       "    </tr>\n",
       "    <tr>\n",
       "      <th>67689</th>\n",
       "      <td>Watermelon</td>\n",
       "      <td>Watermelon/r_81_100.jpg</td>\n",
       "    </tr>\n",
       "    <tr>\n",
       "      <th>67690</th>\n",
       "      <td>Watermelon</td>\n",
       "      <td>Watermelon/r_8_100.jpg</td>\n",
       "    </tr>\n",
       "    <tr>\n",
       "      <th>67691</th>\n",
       "      <td>Watermelon</td>\n",
       "      <td>Watermelon/r_9_100.jpg</td>\n",
       "    </tr>\n",
       "  </tbody>\n",
       "</table>\n",
       "<p>67692 rows × 2 columns</p>\n",
       "</div>"
      ],
      "text/plain": [
       "               Fruits                Fruits Image\n",
       "0      Apple Braeburn    Apple Braeburn/0_100.jpg\n",
       "1      Apple Braeburn  Apple Braeburn/100_100.jpg\n",
       "2      Apple Braeburn  Apple Braeburn/101_100.jpg\n",
       "3      Apple Braeburn  Apple Braeburn/102_100.jpg\n",
       "4      Apple Braeburn  Apple Braeburn/103_100.jpg\n",
       "...               ...                         ...\n",
       "67687      Watermelon      Watermelon/r_6_100.jpg\n",
       "67688      Watermelon      Watermelon/r_7_100.jpg\n",
       "67689      Watermelon     Watermelon/r_81_100.jpg\n",
       "67690      Watermelon      Watermelon/r_8_100.jpg\n",
       "67691      Watermelon      Watermelon/r_9_100.jpg\n",
       "\n",
       "[67692 rows x 2 columns]"
      ]
     },
     "execution_count": 12,
     "metadata": {},
     "output_type": "execute_result"
    }
   ],
   "source": [
    "train_fruits = pd.DataFrame(fruits, columns=[\"Fruits\"])\n",
    "train_fruits[\"Fruits Image\"] = fruits_image\n",
    "train_fruits"
   ]
  },
  {
   "cell_type": "code",
   "execution_count": 6,
   "id": "6c4e295e-7145-4419-95ee-16c881a70987",
   "metadata": {},
   "outputs": [],
   "source": [
    "#on rescale les pixels des images.\n",
    "train_datagen = tf.keras.preprocessing.image.ImageDataGenerator(rescale=1./255)\n",
    "validation_datagen = tf.keras.preprocessing.image.ImageDataGenerator(rescale=1./255)"
   ]
  },
  {
   "cell_type": "code",
   "execution_count": 7,
   "id": "ecb2857b-4065-4e87-b8cb-86b1887fae16",
   "metadata": {},
   "outputs": [
    {
     "name": "stdout",
     "output_type": "stream",
     "text": [
      "Found 67692 images belonging to 131 classes.\n",
      "Found 22688 images belonging to 131 classes.\n"
     ]
    }
   ],
   "source": [
    "train_generator = train_datagen.flow_from_directory(\n",
    "    train_dir,\n",
    "    target_size=(100, 100),\n",
    "    batch_size=60,\n",
    "    class_mode='categorical'  # 'binary' si solo tienes dos clases, 'categorical' si tienes más de dos clases\n",
    ")\n",
    "\n",
    "# Configura el generador de datos de validación\n",
    "validation_generator = validation_datagen.flow_from_directory(\n",
    "    validation_dir,\n",
    "    target_size=(100, 100),\n",
    "    batch_size=75,\n",
    "    class_mode='categorical'\n",
    ")"
   ]
  },
  {
   "cell_type": "code",
   "execution_count": 8,
   "id": "d3a5b5b6-4c77-4bc4-83e8-f3e1fb135bee",
   "metadata": {},
   "outputs": [],
   "source": [
    "from tensorflow.keras.models import Sequential\n",
    "from tensorflow.keras.layers import Conv2D, MaxPooling2D, Flatten, Dense\n",
    "from keras.layers import Dropout"
   ]
  },
  {
   "cell_type": "code",
   "execution_count": 11,
   "id": "ce03c2d3-c0f8-4386-b0b3-0d9cf054dff1",
   "metadata": {},
   "outputs": [
    {
     "name": "stdout",
     "output_type": "stream",
     "text": [
      "Found 67692 images belonging to 131 classes.\n"
     ]
    }
   ],
   "source": [
    "train_batches = tf.keras.preprocessing.image.ImageDataGenerator(preprocessing_function=tf.keras.applications.vgg16.preprocess_input) \\\n",
    "    .flow_from_directory(directory=train_dir, target_size=(128,128), class_mode='categorical', batch_size=10)"
   ]
  },
  {
   "cell_type": "code",
   "execution_count": null,
   "id": "0c61cf7c-a7f2-4e92-82ad-56be4a825b66",
   "metadata": {},
   "outputs": [],
   "source": []
  }
 ],
 "metadata": {
  "kernelspec": {
   "display_name": "Python 3 (ipykernel)",
   "language": "python",
   "name": "python3"
  },
  "language_info": {
   "codemirror_mode": {
    "name": "ipython",
    "version": 3
   },
   "file_extension": ".py",
   "mimetype": "text/x-python",
   "name": "python",
   "nbconvert_exporter": "python",
   "pygments_lexer": "ipython3",
   "version": "3.10.9"
  }
 },
 "nbformat": 4,
 "nbformat_minor": 5
}
