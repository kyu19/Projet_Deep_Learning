{
 "cells": [
  {
   "cell_type": "markdown",
   "id": "f276c2fe",
   "metadata": {},
   "source": [
    "### PROJET FRUITS Jean-Pierre / YANIS / MEHDI / TARIK"
   ]
  },
  {
   "cell_type": "code",
   "execution_count": 1,
   "id": "db893b38",
   "metadata": {},
   "outputs": [],
   "source": [
    "#on commence par récupérer le zip\n",
    "#import warnings\n",
    "import warnings\n",
    "warnings.filterwarnings('ignore')\n",
    "import pandas as pd\n",
    "import seaborn as sns\n",
    "import matplotlib.pyplot as plt\n",
    "# !pip install zipfile36"
   ]
  },
  {
   "cell_type": "code",
   "execution_count": 2,
   "id": "36066fab",
   "metadata": {},
   "outputs": [
    {
     "data": {
      "text/plain": [
       "'2.14.0'"
      ]
     },
     "execution_count": 2,
     "metadata": {},
     "output_type": "execute_result"
    }
   ],
   "source": [
    "import os\n",
    "# import zipfile36 as zipfile \n",
    "import numpy as np\n",
    "from matplotlib import pyplot as plt\n",
    "from matplotlib.image import imread\n",
    "from PIL import Image\n",
    "import tensorflow as tf\n",
    "tf.__version__"
   ]
  },
  {
   "cell_type": "code",
   "execution_count": 3,
   "id": "f29f5f50",
   "metadata": {},
   "outputs": [],
   "source": [
    "#pour  Mr bejaoui, moi j'utilise en local \n",
    "\n",
    "# zip_ref = zipfile.ZipFile('./archive.zip', 'r')\n",
    "# zip_ref.extractall('./')\n",
    "# zip_ref.close()"
   ]
  },
  {
   "cell_type": "code",
   "execution_count": 4,
   "id": "1f7c4c17",
   "metadata": {},
   "outputs": [],
   "source": [
    "os.getcwd()\n",
    "base_dir = './archive/'\n",
    "\n",
    "train_dir = './fruits-360_dataset/fruits-360/Training/'\n",
    "validation_dir =  './fruits-360_dataset/fruits-360/Test/'\n",
    "os.chdir(base_dir)"
   ]
  },
  {
   "cell_type": "code",
   "execution_count": 6,
   "id": "12e7fffe",
   "metadata": {},
   "outputs": [],
   "source": [
    "#un peu de nettoyage \n",
    "\n",
    "\n",
    "fruits = []\n",
    "fruits_image = []\n",
    "\n",
    "for i in os.listdir(train_dir):\n",
    "    for image_filename in os.listdir(train_dir + i):\n",
    "        fruits.append(i) # name of the fruit \n",
    "        fruits_image.append(i + '/' + image_filename)"
   ]
  },
  {
   "cell_type": "code",
   "execution_count": 7,
   "id": "bdfe502d",
   "metadata": {},
   "outputs": [],
   "source": [
    "train_fruits = pd.DataFrame(fruits, columns=[\"Fruits\"])\n",
    "train_fruits[\"Fruits Image\"] = fruits_image"
   ]
  },
  {
   "cell_type": "code",
   "execution_count": 8,
   "id": "7f3342b0",
   "metadata": {},
   "outputs": [
    {
     "data": {
      "text/html": [
       "<div>\n",
       "<style scoped>\n",
       "    .dataframe tbody tr th:only-of-type {\n",
       "        vertical-align: middle;\n",
       "    }\n",
       "\n",
       "    .dataframe tbody tr th {\n",
       "        vertical-align: top;\n",
       "    }\n",
       "\n",
       "    .dataframe thead th {\n",
       "        text-align: right;\n",
       "    }\n",
       "</style>\n",
       "<table border=\"1\" class=\"dataframe\">\n",
       "  <thead>\n",
       "    <tr style=\"text-align: right;\">\n",
       "      <th></th>\n",
       "      <th>Fruits</th>\n",
       "      <th>Fruits Image</th>\n",
       "    </tr>\n",
       "  </thead>\n",
       "  <tbody>\n",
       "    <tr>\n",
       "      <th>0</th>\n",
       "      <td>Apple Braeburn</td>\n",
       "      <td>Apple Braeburn/0_100.jpg</td>\n",
       "    </tr>\n",
       "    <tr>\n",
       "      <th>1</th>\n",
       "      <td>Apple Braeburn</td>\n",
       "      <td>Apple Braeburn/100_100.jpg</td>\n",
       "    </tr>\n",
       "    <tr>\n",
       "      <th>2</th>\n",
       "      <td>Apple Braeburn</td>\n",
       "      <td>Apple Braeburn/101_100.jpg</td>\n",
       "    </tr>\n",
       "    <tr>\n",
       "      <th>3</th>\n",
       "      <td>Apple Braeburn</td>\n",
       "      <td>Apple Braeburn/102_100.jpg</td>\n",
       "    </tr>\n",
       "    <tr>\n",
       "      <th>4</th>\n",
       "      <td>Apple Braeburn</td>\n",
       "      <td>Apple Braeburn/103_100.jpg</td>\n",
       "    </tr>\n",
       "    <tr>\n",
       "      <th>...</th>\n",
       "      <td>...</td>\n",
       "      <td>...</td>\n",
       "    </tr>\n",
       "    <tr>\n",
       "      <th>67687</th>\n",
       "      <td>Watermelon</td>\n",
       "      <td>Watermelon/r_6_100.jpg</td>\n",
       "    </tr>\n",
       "    <tr>\n",
       "      <th>67688</th>\n",
       "      <td>Watermelon</td>\n",
       "      <td>Watermelon/r_7_100.jpg</td>\n",
       "    </tr>\n",
       "    <tr>\n",
       "      <th>67689</th>\n",
       "      <td>Watermelon</td>\n",
       "      <td>Watermelon/r_81_100.jpg</td>\n",
       "    </tr>\n",
       "    <tr>\n",
       "      <th>67690</th>\n",
       "      <td>Watermelon</td>\n",
       "      <td>Watermelon/r_8_100.jpg</td>\n",
       "    </tr>\n",
       "    <tr>\n",
       "      <th>67691</th>\n",
       "      <td>Watermelon</td>\n",
       "      <td>Watermelon/r_9_100.jpg</td>\n",
       "    </tr>\n",
       "  </tbody>\n",
       "</table>\n",
       "<p>67692 rows × 2 columns</p>\n",
       "</div>"
      ],
      "text/plain": [
       "               Fruits                Fruits Image\n",
       "0      Apple Braeburn    Apple Braeburn/0_100.jpg\n",
       "1      Apple Braeburn  Apple Braeburn/100_100.jpg\n",
       "2      Apple Braeburn  Apple Braeburn/101_100.jpg\n",
       "3      Apple Braeburn  Apple Braeburn/102_100.jpg\n",
       "4      Apple Braeburn  Apple Braeburn/103_100.jpg\n",
       "...               ...                         ...\n",
       "67687      Watermelon      Watermelon/r_6_100.jpg\n",
       "67688      Watermelon      Watermelon/r_7_100.jpg\n",
       "67689      Watermelon     Watermelon/r_81_100.jpg\n",
       "67690      Watermelon      Watermelon/r_8_100.jpg\n",
       "67691      Watermelon      Watermelon/r_9_100.jpg\n",
       "\n",
       "[67692 rows x 2 columns]"
      ]
     },
     "execution_count": 8,
     "metadata": {},
     "output_type": "execute_result"
    }
   ],
   "source": [
    "train_fruits"
   ]
  },
  {
   "cell_type": "code",
   "execution_count": 10,
   "id": "81fc9283",
   "metadata": {},
   "outputs": [],
   "source": [
    "#on rescale les pixels des images.\n",
    "train_datagen = tf.keras.preprocessing.image.ImageDataGenerator(rescale=1./255)\n",
    "validation_datagen = tf.keras.preprocessing.image.ImageDataGenerator(rescale=1./255)"
   ]
  },
  {
   "cell_type": "code",
   "execution_count": 11,
   "id": "3d0b66ef",
   "metadata": {},
   "outputs": [
    {
     "name": "stdout",
     "output_type": "stream",
     "text": [
      "Found 67692 images belonging to 131 classes.\n",
      "Found 22688 images belonging to 131 classes.\n"
     ]
    }
   ],
   "source": [
    "train_generator = train_datagen.flow_from_directory(\n",
    "    train_dir,\n",
    "    target_size=(100, 100),\n",
    "    batch_size=60,\n",
    "    class_mode='categorical'  # 'binary' si solo tienes dos clases, 'categorical' si tienes más de dos clases\n",
    ")\n",
    "\n",
    "# Configura el generador de datos de validación\n",
    "validation_generator = validation_datagen.flow_from_directory(\n",
    "    validation_dir,\n",
    "    target_size=(100, 100),\n",
    "    batch_size=75,\n",
    "    class_mode='categorical'\n",
    ")"
   ]
  },
  {
   "cell_type": "code",
   "execution_count": 12,
   "id": "dcb246ab",
   "metadata": {},
   "outputs": [],
   "source": [
    "from tensorflow.keras.models import Sequential\n",
    "from tensorflow.keras.layers import Conv2D, MaxPooling2D, Flatten, Dense\n",
    "from keras.layers import Dropout"
   ]
  },
  {
   "cell_type": "code",
   "execution_count": null,
   "id": "46601385",
   "metadata": {},
   "outputs": [],
   "source": []
  }
 ],
 "metadata": {
  "kernelspec": {
   "display_name": "Python 3 (ipykernel)",
   "language": "python",
   "name": "python3"
  },
  "language_info": {
   "codemirror_mode": {
    "name": "ipython",
    "version": 3
   },
   "file_extension": ".py",
   "mimetype": "text/x-python",
   "name": "python",
   "nbconvert_exporter": "python",
   "pygments_lexer": "ipython3",
   "version": "3.10.0"
  }
 },
 "nbformat": 4,
 "nbformat_minor": 5
}
